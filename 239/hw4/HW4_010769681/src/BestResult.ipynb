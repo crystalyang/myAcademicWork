{
 "cells": [
  {
   "cell_type": "code",
   "execution_count": 43,
   "metadata": {
    "collapsed": true
   },
   "outputs": [],
   "source": [
    "import pandas as pd\n",
    "import numpy as np\n",
    "import scipy as sp\n",
    "from sklearn.model_selection import train_test_split\n",
    "from scipy.sparse import csr_matrix\n",
    "from sklearn.ensemble import ExtraTreesClassifier\n",
    "from sklearn.feature_selection import SelectFromModel\n",
    "from sklearn.feature_selection import SelectKBest\n",
    "from sklearn.feature_selection import chi2\n",
    "from sklearn.feature_selection import mutual_info_classif\n",
    "from sklearn.preprocessing import StandardScaler\n",
    "from sklearn.neighbors import KNeighborsClassifier\n",
    "from sklearn.tree import DecisionTreeClassifier\n",
    "from sklearn.ensemble import RandomForestClassifier, AdaBoostClassifier\n",
    "from sklearn.naive_bayes import GaussianNB\n",
    "from sklearn.neural_network import MLPClassifier\n",
    "from sklearn.svm import SVC\n",
    "\n",
    "from sklearn.metrics import f1_score"
   ]
  },
  {
   "cell_type": "code",
   "execution_count": 44,
   "metadata": {
    "collapsed": true
   },
   "outputs": [],
   "source": [
    "#read files\n",
    "with open('train.dat',\"r\") as fh:\n",
    "    lines = fh.readlines()\n",
    "    data = [l.split() for l in lines]\n",
    "    res = [int(data[i][0]) for i in range(len(data))]\n",
    "    doc = [row[1:] for row in data]\n",
    "    \n",
    "with open('test.dat', \"r\") as fh:\n",
    "    lines = fh.readlines()\n",
    "    test = [l.split() for l in lines]"
   ]
  },
  {
   "cell_type": "code",
   "execution_count": 45,
   "metadata": {
    "collapsed": false
   },
   "outputs": [
    {
     "data": {
      "text/plain": [
       "800"
      ]
     },
     "execution_count": 45,
     "metadata": {},
     "output_type": "execute_result"
    }
   ],
   "source": [
    "len(doc)"
   ]
  },
  {
   "cell_type": "code",
   "execution_count": 46,
   "metadata": {
    "collapsed": false
   },
   "outputs": [],
   "source": [
    "#make the sparse matrix\n",
    "#train matrix\n",
    "indptr = [0]\n",
    "for d in doc:\n",
    "    n = len(d)+indptr[-1]\n",
    "    indptr.append(n)\n",
    "\n",
    "indices = np.array([item for i in doc for item in i])\n",
    "data = np.ones(len(indices))\n",
    "mat_train = csr_matrix((data,indices, indptr),shape=(800,100000))\n",
    "\n",
    "#test matrix\n",
    "indptr = [0]\n",
    "for d in test:\n",
    "    n = len(d)+indptr[-1]\n",
    "    indptr.append(n)\n",
    "\n",
    "indices = np.array([item for i in test for item in i])\n",
    "data = np.ones(len(indices))\n",
    "mat_test = csr_matrix((data,indices, indptr),shape=(350,100000))"
   ]
  },
  {
   "cell_type": "code",
   "execution_count": 47,
   "metadata": {
    "collapsed": true
   },
   "outputs": [
    {
     "name": "stdout",
     "output_type": "stream",
     "text": [
      "  (0, 191)\t1.0\n",
      "  (0, 367)\t1.0\n",
      "  (0, 614)\t1.0\n",
      "  (0, 634)\t1.0\n",
      "  (0, 711)\t1.0\n",
      "  (0, 1202)\t1.0\n",
      "  (0, 1220)\t1.0\n",
      "  (0, 1311)\t1.0\n",
      "  (0, 1472)\t1.0\n",
      "  (0, 1730)\t1.0\n",
      "  (0, 2281)\t1.0\n",
      "  (0, 2572)\t1.0\n",
      "  (0, 2602)\t1.0\n",
      "  (0, 2611)\t1.0\n",
      "  (0, 2824)\t1.0\n",
      "  (0, 2855)\t1.0\n",
      "  (0, 2940)\t1.0\n",
      "  (0, 3149)\t1.0\n",
      "  (0, 3313)\t1.0\n",
      "  (0, 3560)\t1.0\n",
      "  (0, 3568)\t1.0\n",
      "  (0, 3824)\t1.0\n",
      "  (0, 4185)\t1.0\n",
      "  (0, 4266)\t1.0\n",
      "  (0, 4366)\t1.0\n",
      "  :\t:\n",
      "  (0, 96998)\t1.0\n",
      "  (0, 97062)\t1.0\n",
      "  (0, 97204)\t1.0\n",
      "  (0, 97947)\t1.0\n",
      "  (0, 97977)\t1.0\n",
      "  (0, 98061)\t1.0\n",
      "  (0, 98190)\t1.0\n",
      "  (0, 98214)\t1.0\n",
      "  (0, 98231)\t1.0\n",
      "  (0, 98277)\t1.0\n",
      "  (0, 98402)\t1.0\n",
      "  (0, 98543)\t1.0\n",
      "  (0, 98581)\t1.0\n",
      "  (0, 98654)\t1.0\n",
      "  (0, 98831)\t1.0\n",
      "  (0, 98959)\t1.0\n",
      "  (0, 99116)\t1.0\n",
      "  (0, 99187)\t1.0\n",
      "  (0, 99257)\t1.0\n",
      "  (0, 99321)\t1.0\n",
      "  (0, 99349)\t1.0\n",
      "  (0, 99580)\t1.0\n",
      "  (0, 99678)\t1.0\n",
      "  (0, 99686)\t1.0\n",
      "  (0, 99998)\t1.0\n",
      "  (0, 354)\t1.0\n",
      "  (0, 386)\t1.0\n",
      "  (0, 517)\t1.0\n",
      "  (0, 627)\t1.0\n",
      "  (0, 646)\t1.0\n",
      "  (0, 764)\t1.0\n",
      "  (0, 870)\t1.0\n",
      "  (0, 915)\t1.0\n",
      "  (0, 1364)\t1.0\n",
      "  (0, 1502)\t1.0\n",
      "  (0, 1731)\t1.0\n",
      "  (0, 1749)\t1.0\n",
      "  (0, 1841)\t1.0\n",
      "  (0, 2033)\t1.0\n",
      "  (0, 2071)\t1.0\n",
      "  (0, 2272)\t1.0\n",
      "  (0, 2358)\t1.0\n",
      "  (0, 2485)\t1.0\n",
      "  (0, 2572)\t1.0\n",
      "  (0, 2669)\t1.0\n",
      "  (0, 2723)\t1.0\n",
      "  (0, 3174)\t1.0\n",
      "  (0, 3337)\t1.0\n",
      "  (0, 3460)\t1.0\n",
      "  (0, 3467)\t1.0\n",
      "  :\t:\n",
      "  (0, 97140)\t1.0\n",
      "  (0, 97378)\t1.0\n",
      "  (0, 97449)\t1.0\n",
      "  (0, 97553)\t1.0\n",
      "  (0, 97635)\t1.0\n",
      "  (0, 98203)\t1.0\n",
      "  (0, 98230)\t1.0\n",
      "  (0, 98424)\t1.0\n",
      "  (0, 98440)\t1.0\n",
      "  (0, 98565)\t1.0\n",
      "  (0, 98681)\t1.0\n",
      "  (0, 98713)\t1.0\n",
      "  (0, 98846)\t1.0\n",
      "  (0, 98908)\t1.0\n",
      "  (0, 98955)\t1.0\n",
      "  (0, 99306)\t1.0\n",
      "  (0, 99384)\t1.0\n",
      "  (0, 99568)\t1.0\n",
      "  (0, 99579)\t1.0\n",
      "  (0, 99613)\t1.0\n",
      "  (0, 99656)\t1.0\n",
      "  (0, 99761)\t1.0\n",
      "  (0, 99818)\t1.0\n",
      "  (0, 99847)\t1.0\n",
      "  (0, 99856)\t1.0\n"
     ]
    }
   ],
   "source": [
    "print mat_train[0]\n",
    "print mat_test[0]"
   ]
  },
  {
   "cell_type": "code",
   "execution_count": 48,
   "metadata": {
    "collapsed": false
   },
   "outputs": [],
   "source": [
    "#tree-based feature selection\n",
    "clf = ExtraTreesClassifier()\n",
    "clf = clf.fit(mat_train, res)\n",
    "clf.feature_importances_\n",
    "model = SelectFromModel(clf, prefit=True)\n",
    "mat_train = model.transform(mat_train)\n",
    "mat_test = model.transform(mat_test)"
   ]
  },
  {
   "cell_type": "code",
   "execution_count": 49,
   "metadata": {
    "collapsed": false
   },
   "outputs": [
    {
     "data": {
      "text/plain": [
       "(800, 640)"
      ]
     },
     "execution_count": 49,
     "metadata": {},
     "output_type": "execute_result"
    }
   ],
   "source": [
    "mat_train.shape"
   ]
  },
  {
   "cell_type": "code",
   "execution_count": 50,
   "metadata": {
    "collapsed": true
   },
   "outputs": [],
   "source": [
    "#random forest\n",
    "clfRF = RandomForestClassifier(max_depth=10, n_estimators=200, max_features=None,random_state=1)\n",
    "clfRF.fit(mat_train, res)\n",
    "RFres = clfRF.predict(mat_test)"
   ]
  },
  {
   "cell_type": "code",
   "execution_count": 35,
   "metadata": {
    "collapsed": false
   },
   "outputs": [
    {
     "data": {
      "text/plain": [
       "dtype('int64')"
      ]
     },
     "execution_count": 35,
     "metadata": {},
     "output_type": "execute_result"
    }
   ],
   "source": [
    "RFres.dtype"
   ]
  },
  {
   "cell_type": "code",
   "execution_count": null,
   "metadata": {
    "collapsed": true
   },
   "outputs": [],
   "source": []
  },
  {
   "cell_type": "code",
   "execution_count": null,
   "metadata": {
    "collapsed": true
   },
   "outputs": [],
   "source": []
  },
  {
   "cell_type": "code",
   "execution_count": 51,
   "metadata": {
    "collapsed": true
   },
   "outputs": [],
   "source": [
    "def writeToFile(testRes,filename):\n",
    "    resFile = open(filename, 'w')\n",
    "    for i in range (len(testRes)):\n",
    "        resFile.write(str(testRes[i]) +'\\n')"
   ]
  },
  {
   "cell_type": "code",
   "execution_count": 52,
   "metadata": {
    "collapsed": false
   },
   "outputs": [],
   "source": [
    "writeToFile(RFres,'randomforest4.dat')"
   ]
  },
  {
   "cell_type": "code",
   "execution_count": null,
   "metadata": {
    "collapsed": true
   },
   "outputs": [],
   "source": []
  }
 ],
 "metadata": {
  "kernelspec": {
   "display_name": "Python 2",
   "language": "python",
   "name": "python2"
  },
  "language_info": {
   "codemirror_mode": {
    "name": "ipython",
    "version": 2
   },
   "file_extension": ".py",
   "mimetype": "text/x-python",
   "name": "python",
   "nbconvert_exporter": "python",
   "pygments_lexer": "ipython2",
   "version": "2.7.12"
  }
 },
 "nbformat": 4,
 "nbformat_minor": 2
}
