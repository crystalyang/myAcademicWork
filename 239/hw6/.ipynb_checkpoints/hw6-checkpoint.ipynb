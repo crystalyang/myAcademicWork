{
 "cells": [
  {
   "cell_type": "code",
   "execution_count": 332,
   "metadata": {
    "collapsed": false
   },
   "outputs": [],
   "source": [
    "import numpy as np\n",
    "from scipy.sparse import csr_matrix\n",
    "from sklearn.preprocessing import normalize\n",
    "from random import randint\n",
    "from sklearn import random_projection\n",
    "from sklearn.metrics.pairwise import cosine_similarity\n",
    "from sklearn.metrics.pairwise import pairwise_distances\n"
   ]
  },
  {
   "cell_type": "code",
   "execution_count": 333,
   "metadata": {
    "collapsed": true
   },
   "outputs": [],
   "source": [
    "#read files\n",
    "with open('train.dat',\"r\") as fh:\n",
    "    lines = fh.readlines()\n",
    "    data = [l.split() for l in lines]\n",
    "    data = [[int(i) for i in li]for li in data ]"
   ]
  },
  {
   "cell_type": "code",
   "execution_count": 334,
   "metadata": {
    "collapsed": false
   },
   "outputs": [],
   "source": [
    "doc=[li[::2]for li in data]"
   ]
  },
  {
   "cell_type": "code",
   "execution_count": 335,
   "metadata": {
    "collapsed": false
   },
   "outputs": [],
   "source": [
    "value = [li[1::2] for li in data]\n",
    "count=[i for li in value for i in li]"
   ]
  },
  {
   "cell_type": "code",
   "execution_count": 336,
   "metadata": {
    "collapsed": false
   },
   "outputs": [],
   "source": [
    "indptr = [0]\n",
    "for d in doc:\n",
    "    n = len(d) + indptr[-1]\n",
    "    indptr.append(n)\n",
    "    \n",
    "indices = np.array([item for i in doc for item in i])\n",
    "mat = csr_matrix((count, indices, indptr), shape =(8580,max(indices)))"
   ]
  },
  {
   "cell_type": "code",
   "execution_count": 337,
   "metadata": {
    "collapsed": false
   },
   "outputs": [],
   "source": [
    "#random projection\n",
    "transformer = random_projection.SparseRandomProjection()\n",
    "mat_rd = transformer.fit_transform(mat)\n"
   ]
  },
  {
   "cell_type": "code",
   "execution_count": 338,
   "metadata": {
    "collapsed": false
   },
   "outputs": [],
   "source": [
    "mat_rd_l2 = normalize(mat_rd, norm='l2', axis =1, copy= True)"
   ]
  },
  {
   "cell_type": "code",
   "execution_count": 339,
   "metadata": {
    "collapsed": false
   },
   "outputs": [],
   "source": [
    "def randomKdocInd(k):\n",
    "    centroid = [randint(0,8579) for i in range (0,k)]\n",
    "    return centroid\n",
    "\n",
    "Kcent = randomKdocInd(7)"
   ]
  },
  {
   "cell_type": "code",
   "execution_count": 340,
   "metadata": {
    "collapsed": false
   },
   "outputs": [],
   "source": [
    "centroid_mat = mat_rd_l2[Kcent].toarray()"
   ]
  },
  {
   "cell_type": "code",
   "execution_count": 341,
   "metadata": {
    "collapsed": false
   },
   "outputs": [],
   "source": [
    "cen_initial = centroid_mat"
   ]
  },
  {
   "cell_type": "code",
   "execution_count": 342,
   "metadata": {
    "collapsed": true
   },
   "outputs": [],
   "source": [
    "clusters = {}"
   ]
  },
  {
   "cell_type": "code",
   "execution_count": 343,
   "metadata": {
    "collapsed": true
   },
   "outputs": [],
   "source": [
    "def kMean(mat_rd_l2, centroid_mat):\n",
    "    #calculate cosine sim\n",
    "    sim = cosine_similarity(centroid_mat, mat_rd_l2)\n",
    "    placement = np.argmax(sim,axis = 0)\n",
    "    #assignCluster\n",
    "    assignCluster(placement, mat_rd_l2)\n",
    "    #recalculate centroid\n",
    "    c_mat = recalCentroid(centroid_mat,mat_rd_l2)\n",
    "    \n",
    "    return c_mat, placement"
   ]
  },
  {
   "cell_type": "code",
   "execution_count": 344,
   "metadata": {
    "collapsed": false
   },
   "outputs": [],
   "source": [
    "def findbestcentroids(mat_rd_l2,centroid_mat):\n",
    "    while True:\n",
    "        centroid_mat_new,res = kMean(mat_rd_l2, centroid_mat)\n",
    "        if np.allclose(centroid_mat,centroid_mat_new):\n",
    "            return res,centroid_mat,centroid_mat_new\n",
    "        else:\n",
    "            centroid_mat = centroid_mat_new"
   ]
  },
  {
   "cell_type": "code",
   "execution_count": 345,
   "metadata": {
    "collapsed": false
   },
   "outputs": [],
   "source": [
    "#calculate cosine sim and cluter each doc\n",
    "def assignCluster(placement, mat_rd_l2):\n",
    "    for c in range(0,7):\n",
    "        clusters[c] = []\n",
    "        \n",
    "    for i,j in enumerate(placement):\n",
    "        clusters[j].append(i)"
   ]
  },
  {
   "cell_type": "code",
   "execution_count": 346,
   "metadata": {
    "collapsed": true
   },
   "outputs": [],
   "source": [
    "#recalculate centroid for 7 clusters\n",
    "def recalCentroid(centroid_mat,mat_rd_l2):\n",
    "    cent_mat = []\n",
    "    for c in range(0,7):\n",
    "        mat_c =  mat_rd_l2[clusters[c]]\n",
    "        centroid_new = np.squeeze(np.asarray(mat_c.mean(axis=0)))\n",
    "        cent_mat.append(centroid_new)\n",
    "        \n",
    "    return cent_mat\n",
    "    "
   ]
  },
  {
   "cell_type": "code",
   "execution_count": 347,
   "metadata": {
    "collapsed": true
   },
   "outputs": [],
   "source": [
    "def writeToFile(res,filename):\n",
    "    resFile = open(filename, 'w')\n",
    "    for i in range (len(res)):\n",
    "        resFile.write(str(res[i]) +'\\n')"
   ]
  },
  {
   "cell_type": "code",
   "execution_count": null,
   "metadata": {
    "collapsed": true
   },
   "outputs": [],
   "source": []
  },
  {
   "cell_type": "code",
   "execution_count": 348,
   "metadata": {
    "collapsed": true
   },
   "outputs": [],
   "source": [
    "res,c,cn = findbestcentroids(mat_rd_l2,centroid_mat)"
   ]
  },
  {
   "cell_type": "code",
   "execution_count": 352,
   "metadata": {
    "collapsed": false
   },
   "outputs": [],
   "source": [
    "#writeToFile(res,\"res4.dat\")"
   ]
  },
  {
   "cell_type": "code",
   "execution_count": null,
   "metadata": {
    "collapsed": true
   },
   "outputs": [],
   "source": []
  }
 ],
 "metadata": {
  "kernelspec": {
   "display_name": "Python 2",
   "language": "python",
   "name": "python2"
  },
  "language_info": {
   "codemirror_mode": {
    "name": "ipython",
    "version": 2
   },
   "file_extension": ".py",
   "mimetype": "text/x-python",
   "name": "python",
   "nbconvert_exporter": "python",
   "pygments_lexer": "ipython2",
   "version": "2.7.12"
  }
 },
 "nbformat": 4,
 "nbformat_minor": 2
}
