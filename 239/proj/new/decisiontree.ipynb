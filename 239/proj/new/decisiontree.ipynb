{
 "cells": [
  {
   "cell_type": "code",
   "execution_count": 1,
   "metadata": {
    "collapsed": true
   },
   "outputs": [],
   "source": [
    "import pandas as pd\n",
    "import numpy as np\n",
    "import scipy as sp\n",
    "from sklearn.model_selection import train_test_split\n",
    "from scipy.sparse import csr_matrix\n",
    "from sklearn.ensemble import ExtraTreesClassifier\n",
    "from sklearn.feature_selection import SelectFromModel\n",
    "from sklearn.feature_selection import SelectKBest\n",
    "from sklearn.feature_selection import chi2\n",
    "from sklearn.feature_selection import mutual_info_classif\n",
    "from sklearn.preprocessing import StandardScaler\n",
    "from sklearn.neighbors import KNeighborsClassifier\n",
    "from sklearn.tree import DecisionTreeClassifier\n",
    "from sklearn.ensemble import RandomForestClassifier, AdaBoostClassifier\n",
    "from sklearn.naive_bayes import GaussianNB\n",
    "from sklearn.neural_network import MLPClassifier\n",
    "from sklearn.svm import SVC\n",
    "from sklearn.discriminant_analysis import LinearDiscriminantAnalysis\n",
    "from sklearn.decomposition import TruncatedSVD\n",
    "from sklearn.random_projection import sparse_random_matrix\n",
    "\n",
    "from sklearn.metrics import f1_score"
   ]
  },
  {
   "cell_type": "code",
   "execution_count": 2,
   "metadata": {
    "collapsed": true
   },
   "outputs": [],
   "source": [
    "#read files\n",
    "with open('train.dat',\"r\") as fh:\n",
    "    lines = fh.readlines()\n",
    "    data = [l.split() for l in lines]\n",
    "    res = [int(data[i][0]) for i in range(len(data))]\n",
    "    doc = [row[1:] for row in data]\n",
    "\n"
   ]
  },
  {
   "cell_type": "code",
   "execution_count": 3,
   "metadata": {
    "collapsed": true
   },
   "outputs": [],
   "source": [
    "indptr = [0]\n",
    "for d in doc:\n",
    "    n = len(d)+indptr[-1]\n",
    "    indptr.append(n)\n",
    "\n",
    "indices = np.array([item for i in doc for item in i])\n",
    "data = np.ones(727760)\n",
    "mat = csr_matrix((data,indices, indptr),shape=(800,100000))"
   ]
  },
  {
   "cell_type": "code",
   "execution_count": 4,
   "metadata": {
    "collapsed": true
   },
   "outputs": [
    {
     "name": "stdout",
     "output_type": "stream",
     "text": [
      "  (0, 118)\t1.0\n",
      "  (0, 307)\t1.0\n",
      "  (0, 367)\t1.0\n",
      "  (0, 478)\t1.0\n",
      "  (0, 505)\t1.0\n",
      "  (0, 512)\t1.0\n",
      "  (0, 807)\t1.0\n",
      "  (0, 878)\t1.0\n",
      "  (0, 939)\t1.0\n",
      "  (0, 1024)\t1.0\n",
      "  (0, 1095)\t1.0\n",
      "  (0, 1836)\t1.0\n",
      "  (0, 1915)\t1.0\n",
      "  (0, 1961)\t1.0\n",
      "  (0, 2261)\t1.0\n",
      "  (0, 2474)\t1.0\n",
      "  (0, 2521)\t1.0\n",
      "  (0, 2633)\t1.0\n",
      "  (0, 2673)\t1.0\n",
      "  (0, 2969)\t1.0\n",
      "  (0, 3143)\t1.0\n",
      "  (0, 3193)\t1.0\n",
      "  (0, 3292)\t1.0\n",
      "  (0, 3313)\t1.0\n",
      "  (0, 3593)\t1.0\n",
      "  :\t:\n",
      "  (0, 95876)\t1.0\n",
      "  (0, 95980)\t1.0\n",
      "  (0, 96135)\t1.0\n",
      "  (0, 96367)\t1.0\n",
      "  (0, 96892)\t1.0\n",
      "  (0, 96942)\t1.0\n",
      "  (0, 96957)\t1.0\n",
      "  (0, 97217)\t1.0\n",
      "  (0, 97325)\t1.0\n",
      "  (0, 97533)\t1.0\n",
      "  (0, 97797)\t1.0\n",
      "  (0, 98342)\t1.0\n",
      "  (0, 98380)\t1.0\n",
      "  (0, 98521)\t1.0\n",
      "  (0, 98549)\t1.0\n",
      "  (0, 98980)\t1.0\n",
      "  (0, 99137)\t1.0\n",
      "  (0, 99171)\t1.0\n",
      "  (0, 99184)\t1.0\n",
      "  (0, 99410)\t1.0\n",
      "  (0, 99560)\t1.0\n",
      "  (0, 99610)\t1.0\n",
      "  (0, 99626)\t1.0\n",
      "  (0, 99731)\t1.0\n",
      "  (0, 99938)\t1.0\n"
     ]
    }
   ],
   "source": [
    "print mat[1]"
   ]
  },
  {
   "cell_type": "code",
   "execution_count": 27,
   "metadata": {
    "collapsed": false
   },
   "outputs": [],
   "source": [
    "#feature selection\n",
    "#chi2, will select the best K feature out of 100000 for each vector\n",
    "def chi2Selection(f,data,cls):\n",
    "    mat_chi2 = SelectKBest(chi2, k=f).fit_transform(data, cls)\n",
    "    return mat_chi2"
   ]
  },
  {
   "cell_type": "code",
   "execution_count": 28,
   "metadata": {
    "collapsed": false,
    "scrolled": true
   },
   "outputs": [],
   "source": [
    "mat_chi2 = chi2Selection(600, mat, res)"
   ]
  },
  {
   "cell_type": "code",
   "execution_count": 277,
   "metadata": {
    "collapsed": true
   },
   "outputs": [
    {
     "name": "stdout",
     "output_type": "stream",
     "text": [
      "  (0, 49790)\t1.0\n",
      "  (0, 49553)\t1.0\n",
      "  (0, 49182)\t1.0\n",
      "  (0, 49109)\t1.0\n",
      "  (0, 49093)\t1.0\n",
      "  (0, 48663)\t1.0\n",
      "  (0, 48495)\t1.0\n",
      "  (0, 48365)\t1.0\n",
      "  (0, 48355)\t1.0\n",
      "  (0, 48053)\t1.0\n",
      "  (0, 47923)\t1.0\n",
      "  (0, 47791)\t1.0\n",
      "  (0, 47757)\t1.0\n",
      "  (0, 47721)\t1.0\n",
      "  (0, 47649)\t1.0\n",
      "  (0, 47417)\t1.0\n",
      "  (0, 47166)\t1.0\n",
      "  (0, 47118)\t1.0\n",
      "  (0, 47006)\t1.0\n",
      "  (0, 46998)\t1.0\n",
      "  (0, 46782)\t1.0\n",
      "  (0, 46578)\t1.0\n",
      "  (0, 46454)\t1.0\n",
      "  (0, 46323)\t1.0\n",
      "  (0, 46127)\t1.0\n",
      "  :\t:\n",
      "  (0, 4179)\t1.0\n",
      "  (0, 4158)\t1.0\n",
      "  (0, 3983)\t1.0\n",
      "  (0, 3975)\t1.0\n",
      "  (0, 3471)\t1.0\n",
      "  (0, 3441)\t1.0\n",
      "  (0, 3327)\t1.0\n",
      "  (0, 3146)\t1.0\n",
      "  (0, 2940)\t1.0\n",
      "  (0, 2918)\t1.0\n",
      "  (0, 2706)\t1.0\n",
      "  (0, 2687)\t1.0\n",
      "  (0, 2616)\t1.0\n",
      "  (0, 2570)\t1.0\n",
      "  (0, 2294)\t1.0\n",
      "  (0, 1571)\t1.0\n",
      "  (0, 1307)\t1.0\n",
      "  (0, 1225)\t1.0\n",
      "  (0, 1109)\t1.0\n",
      "  (0, 967)\t1.0\n",
      "  (0, 945)\t1.0\n",
      "  (0, 916)\t1.0\n",
      "  (0, 413)\t1.0\n",
      "  (0, 242)\t1.0\n",
      "  (0, 58)\t1.0\n"
     ]
    }
   ],
   "source": [
    "print mat_chi2[1]"
   ]
  },
  {
   "cell_type": "code",
   "execution_count": 33,
   "metadata": {
    "collapsed": true
   },
   "outputs": [],
   "source": [
    "#mutual_info_classif\n",
    "def mutual_info_classifSelection(f,data,cls):\n",
    "    mat_MIC = SelectKBest(mutual_info_classif, k=f).fit_transform(mat_Tree, res)\n",
    "    return mat_MIC"
   ]
  },
  {
   "cell_type": "code",
   "execution_count": 50,
   "metadata": {
    "collapsed": false
   },
   "outputs": [],
   "source": [
    "mat_MIC= mutual_info_classifSelection(300,mat_Tree,res)"
   ]
  },
  {
   "cell_type": "code",
   "execution_count": 51,
   "metadata": {
    "collapsed": false
   },
   "outputs": [
    {
     "name": "stdout",
     "output_type": "stream",
     "text": [
      "  (0, 155)\t1.0\n",
      "  (0, 180)\t1.0\n"
     ]
    },
    {
     "data": {
      "text/plain": [
       "(800, 300)"
      ]
     },
     "execution_count": 51,
     "metadata": {},
     "output_type": "execute_result"
    }
   ],
   "source": [
    "print mat_MIC[1]\n",
    "mat_MIC.shape"
   ]
  },
  {
   "cell_type": "code",
   "execution_count": 6,
   "metadata": {
    "collapsed": false
   },
   "outputs": [
    {
     "data": {
      "text/plain": [
       "(800, 613)"
      ]
     },
     "execution_count": 6,
     "metadata": {},
     "output_type": "execute_result"
    }
   ],
   "source": [
    "#tree-based feature selection\n",
    "clf = ExtraTreesClassifier()\n",
    "clf = clf.fit(mat, res)\n",
    "clf.feature_importances_\n",
    "model = SelectFromModel(clf, prefit=True)\n",
    "mat_Tree = model.transform(mat)\n",
    "mat_Tree.shape"
   ]
  },
  {
   "cell_type": "code",
   "execution_count": null,
   "metadata": {
    "collapsed": true
   },
   "outputs": [],
   "source": []
  },
  {
   "cell_type": "code",
   "execution_count": 4,
   "metadata": {
    "collapsed": false
   },
   "outputs": [
    {
     "data": {
      "text/plain": [
       "(800, 100)"
      ]
     },
     "execution_count": 4,
     "metadata": {},
     "output_type": "execute_result"
    }
   ],
   "source": [
    "#svd\n",
    "svd = TruncatedSVD(n_components=100, n_iter=2, random_state=1)\n",
    "svd.fit(mat)\n",
    "mat_svd = svd.transform(mat)\n",
    "mat_svd.shape"
   ]
  },
  {
   "cell_type": "code",
   "execution_count": 6,
   "metadata": {
    "collapsed": false
   },
   "outputs": [
    {
     "data": {
      "text/plain": [
       "(800, 100000)"
      ]
     },
     "execution_count": 6,
     "metadata": {},
     "output_type": "execute_result"
    }
   ],
   "source": [
    "mat.shape"
   ]
  },
  {
   "cell_type": "code",
   "execution_count": null,
   "metadata": {
    "collapsed": true
   },
   "outputs": [],
   "source": []
  },
  {
   "cell_type": "code",
   "execution_count": 11,
   "metadata": {
    "collapsed": true
   },
   "outputs": [],
   "source": [
    "#split train set\n",
    "def split(mat, res):\n",
    "    X_train, X_test, y_train, y_test = train_test_split(mat,res,test_size=0.2,random_state=1) #testsize , random state\n",
    "    return X_train, X_test, y_train, y_test"
   ]
  },
  {
   "cell_type": "code",
   "execution_count": 29,
   "metadata": {
    "collapsed": false
   },
   "outputs": [],
   "source": [
    "#split chi2\n",
    "#mat_chi2_S = StandardScaler(with_mean=False).fit_transform(mat_chi2)#????????\n",
    "X_train_chi2, X_test_chi2, y_train_chi2, y_test_chi2 = split(mat_chi2, res)"
   ]
  },
  {
   "cell_type": "code",
   "execution_count": 52,
   "metadata": {
    "collapsed": false
   },
   "outputs": [],
   "source": [
    "#split MIC\n",
    "X_train_MIC, X_test_MIC, y_train_MIC, y_test_MIC = split(mat_MIC,res)"
   ]
  },
  {
   "cell_type": "code",
   "execution_count": 404,
   "metadata": {
    "collapsed": true
   },
   "outputs": [],
   "source": [
    "#split Treebase\n",
    "X_train_Tree, X_test_Tree, y_train_Tree,y_test_Tree = split(mat_Tree,res)"
   ]
  },
  {
   "cell_type": "code",
   "execution_count": 7,
   "metadata": {
    "collapsed": false
   },
   "outputs": [],
   "source": [
    "#split SVD\n",
    "X_train_SVD, X_test_SVD, y_train_SVD, y_test_SVD = split(mat_svd, res)"
   ]
  },
  {
   "cell_type": "code",
   "execution_count": 215,
   "metadata": {
    "collapsed": true
   },
   "outputs": [],
   "source": [
    "X_train, X_test, y_train, y_test = split(mat,res)"
   ]
  },
  {
   "cell_type": "code",
   "execution_count": 406,
   "metadata": {
    "collapsed": false
   },
   "outputs": [
    {
     "name": "stdout",
     "output_type": "stream",
     "text": [
      "  (0, 19)\t1.0\n",
      "  (0, 107)\t1.0\n",
      "  (0, 196)\t1.0\n",
      "  (0, 394)\t1.0\n"
     ]
    }
   ],
   "source": [
    "print X_train_Tree[0]"
   ]
  },
  {
   "cell_type": "code",
   "execution_count": 53,
   "metadata": {
    "collapsed": false
   },
   "outputs": [
    {
     "data": {
      "text/plain": [
       "KNeighborsClassifier(algorithm='auto', leaf_size=30, metric='minkowski',\n",
       "           metric_params=None, n_jobs=1, n_neighbors=2, p=2,\n",
       "           weights='uniform')"
      ]
     },
     "execution_count": 53,
     "metadata": {},
     "output_type": "execute_result"
    }
   ],
   "source": [
    "#classifier\n",
    "knnclf = KNeighborsClassifier(2)\n",
    "knnclf.fit(X_train_MIC,y_train_MIC)"
   ]
  },
  {
   "cell_type": "code",
   "execution_count": 54,
   "metadata": {
    "collapsed": false
   },
   "outputs": [],
   "source": [
    "knnres = knnclf.predict(X_test_MIC)\n"
   ]
  },
  {
   "cell_type": "code",
   "execution_count": 55,
   "metadata": {
    "collapsed": false
   },
   "outputs": [
    {
     "data": {
      "text/plain": [
       "0.46153846153846151"
      ]
     },
     "execution_count": 55,
     "metadata": {},
     "output_type": "execute_result"
    }
   ],
   "source": [
    "#f-1 score\n",
    "f1_score(np.array(y_test_MIC), knnres,average='binary')"
   ]
  },
  {
   "cell_type": "code",
   "execution_count": null,
   "metadata": {
    "collapsed": true
   },
   "outputs": [],
   "source": []
  },
  {
   "cell_type": "code",
   "execution_count": 62,
   "metadata": {
    "collapsed": false
   },
   "outputs": [],
   "source": [
    "#decision tree\n",
    "clfDT = DecisionTreeClassifier(max_depth=4,class_weight='balanced', random_state=1)\n",
    "clfDT.fit(X_train_MIC,y_train_MIC)\n",
    "DTres = clfDT.predict(X_test_MIC)"
   ]
  },
  {
   "cell_type": "code",
   "execution_count": 63,
   "metadata": {
    "collapsed": false
   },
   "outputs": [
    {
     "data": {
      "text/plain": [
       "0.76470588235294124"
      ]
     },
     "execution_count": 63,
     "metadata": {},
     "output_type": "execute_result"
    }
   ],
   "source": [
    "f1_score(np.array(y_test_MIC), DTres,average='binary')"
   ]
  },
  {
   "cell_type": "code",
   "execution_count": 64,
   "metadata": {
    "collapsed": true
   },
   "outputs": [],
   "source": [
    "#random forest\n",
    "clfRF = RandomForestClassifier(max_depth=3, n_estimators=200, max_features=None,random_state=1)\n",
    "clfRF.fit(X_train_MIC, y_train_MIC)\n",
    "RFres = clfRF.predict(X_test_MIC)"
   ]
  },
  {
   "cell_type": "code",
   "execution_count": 65,
   "metadata": {
    "collapsed": false
   },
   "outputs": [
    {
     "data": {
      "text/plain": [
       "0.55172413793103459"
      ]
     },
     "execution_count": 65,
     "metadata": {},
     "output_type": "execute_result"
    }
   ],
   "source": [
    "f1_score(np.array(y_test_MIC), RFres,average='binary')"
   ]
  },
  {
   "cell_type": "code",
   "execution_count": null,
   "metadata": {
    "collapsed": true
   },
   "outputs": [],
   "source": []
  },
  {
   "cell_type": "code",
   "execution_count": 45,
   "metadata": {
    "collapsed": false
   },
   "outputs": [
    {
     "data": {
      "text/plain": [
       "0.73684210526315774"
      ]
     },
     "execution_count": 45,
     "metadata": {},
     "output_type": "execute_result"
    }
   ],
   "source": [
    "#AdaBoostClassifier\n",
    "clfABC = AdaBoostClassifier()\n",
    "clfABC.fit(X_train_MIC, y_train_MIC)\n",
    "ABCres = clfABC.predict(X_test_MIC)\n",
    "f1_score(np.array(y_test_MIC), ABCres,average='binary')"
   ]
  },
  {
   "cell_type": "code",
   "execution_count": null,
   "metadata": {
    "collapsed": true
   },
   "outputs": [],
   "source": []
  },
  {
   "cell_type": "code",
   "execution_count": 66,
   "metadata": {
    "collapsed": false
   },
   "outputs": [
    {
     "data": {
      "text/plain": [
       "0.78048780487804881"
      ]
     },
     "execution_count": 66,
     "metadata": {},
     "output_type": "execute_result"
    }
   ],
   "source": [
    "#naive bayes #dense data only\n",
    "clfNB = GaussianNB()\n",
    "clfNB.fit(X_train_MIC.toarray(), y_train_MIC)\n",
    "NBres = clfNB.predict(X_test_MIC.toarray())\n",
    "f1_score(np.array(y_test_MIC), NBres,average='binary')"
   ]
  },
  {
   "cell_type": "code",
   "execution_count": null,
   "metadata": {
    "collapsed": true
   },
   "outputs": [],
   "source": []
  },
  {
   "cell_type": "code",
   "execution_count": 67,
   "metadata": {
    "collapsed": false
   },
   "outputs": [
    {
     "data": {
      "text/plain": [
       "0.76470588235294124"
      ]
     },
     "execution_count": 67,
     "metadata": {},
     "output_type": "execute_result"
    }
   ],
   "source": [
    "#neural network\n",
    "clfNN = MLPClassifier(alpha = 0.000001,random_state=1)\n",
    "clfNN.fit(X_train_MIC,y_train_MIC)\n",
    "NNres = clfNN.predict(X_test_MIC)\n",
    "f1_score(np.array(y_test_MIC), NNres,average='binary')"
   ]
  },
  {
   "cell_type": "code",
   "execution_count": null,
   "metadata": {
    "collapsed": true
   },
   "outputs": [],
   "source": []
  },
  {
   "cell_type": "code",
   "execution_count": 48,
   "metadata": {
    "collapsed": false
   },
   "outputs": [
    {
     "data": {
      "text/plain": [
       "0.58064516129032262"
      ]
     },
     "execution_count": 48,
     "metadata": {},
     "output_type": "execute_result"
    }
   ],
   "source": [
    "#svm\n",
    "clfSVM= SVC()\n",
    "clfSVM.fit(X_train_MIC, y_train_MIC)\n",
    "SVMres = clfSVM.predict(X_test_MIC)\n",
    "f1_score(np.array(y_test_MIC), SVMres,average='binary')"
   ]
  },
  {
   "cell_type": "code",
   "execution_count": null,
   "metadata": {
    "collapsed": true
   },
   "outputs": [],
   "source": []
  },
  {
   "cell_type": "code",
   "execution_count": null,
   "metadata": {
    "collapsed": true
   },
   "outputs": [],
   "source": []
  },
  {
   "cell_type": "code",
   "execution_count": null,
   "metadata": {
    "collapsed": true
   },
   "outputs": [],
   "source": []
  }
 ],
 "metadata": {
  "kernelspec": {
   "display_name": "Python 2",
   "language": "python",
   "name": "python2"
  },
  "language_info": {
   "codemirror_mode": {
    "name": "ipython",
    "version": 2
   },
   "file_extension": ".py",
   "mimetype": "text/x-python",
   "name": "python",
   "nbconvert_exporter": "python",
   "pygments_lexer": "ipython2",
   "version": "2.7.12"
  }
 },
 "nbformat": 4,
 "nbformat_minor": 2
}
